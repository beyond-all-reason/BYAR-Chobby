{
 "cells": [
  {
   "cell_type": "code",
   "execution_count": null,
   "metadata": {},
   "outputs": [],
   "source": [
    "import json\n",
    "\n",
    "import pandas as pd"
   ]
  },
  {
   "cell_type": "code",
   "execution_count": null,
   "metadata": {},
   "outputs": [],
   "source": [
    "!grep \"|TIMER| \" infolog.txt | sed 's/.*|TIMER| //g' > times.log\n",
    "!ls times.log -altrh\n",
    "!ls infolog.txt -altrh"
   ]
  },
  {
   "cell_type": "markdown",
   "metadata": {},
   "source": [
    "Latest log: "
   ]
  },
  {
   "cell_type": "code",
   "execution_count": null,
   "metadata": {},
   "outputs": [],
   "source": [
    "times = open(\"times.log\").readlines()\n",
    "times = [ json.loads(time) for time in times ]\n",
    "df = pd.DataFrame(times)\n",
    "\n",
    "cmd_arg = \"args1\"\n",
    "ax = df.groupby(cmd_arg).mean(numeric_only=True).plot.barh(title='Average command time[s]')\n",
    "ax.figure.savefig(\"new_avg.png\")\n",
    "ax = df.groupby(cmd_arg).sum(numeric_only=True).plot.barh(title='Aggregate command time[s]')\n",
    "ax.figure.savefig(\"new_agg.png\")\n",
    "print(df[\"time\"].sum())\n",
    "\n",
    "df_stats = df.groupby(cmd_arg).sum(numeric_only=True)\n",
    "df_stats = df_stats.rename(columns={'time': 'total_time(ms)'})\n",
    "df_stats['total_time(ms)'] = (df_stats['total_time(ms)'] * 1000.0).round()\n",
    "count = df.groupby(cmd_arg).count()['function']\n",
    "df_stats['mean_time(ms)'] = df_stats['total_time(ms)'] / count\n",
    "df_stats['count'] = count\n",
    "\n",
    "df_stats = df_stats.sort_values(by='total_time(ms)', ascending=False)\n",
    "display(df_stats)"
   ]
  },
  {
   "attachments": {},
   "cell_type": "markdown",
   "metadata": {},
   "source": [
    "Baseline: (run this if you've generated it already)"
   ]
  },
  {
   "cell_type": "code",
   "execution_count": null,
   "metadata": {},
   "outputs": [],
   "source": [
    "times = open(\"times_orig.log\").readlines()\n",
    "times = [ json.loads(time) for time in times ]\n",
    "df = pd.DataFrame(times)\n",
    "# df\n",
    "\n",
    "cmd_arg = \"args1\"\n",
    "ax = df.groupby(cmd_arg).mean(numeric_only=True).plot.barh(title='Average command time[s]')\n",
    "ax.figure.savefig(\"old_avg.png\")\n",
    "df.groupby(cmd_arg).sum(numeric_only=True).plot.barh(title='Aggregate command time[s]')\n",
    "ax.figure.savefig(\"old_agg.png\")\n",
    "# df.groupby(cmd_arg).count()[\"function\"].plot.barh(title='Command count')\n",
    "print(df[\"time\"].sum())\n",
    "# display(df.groupby(cmd_arg).count()[\"function\"])\n",
    "\n",
    "\n",
    "df_stats = df.groupby(cmd_arg).sum(numeric_only=True)\n",
    "df_stats = df_stats.rename(columns={'time': 'total_time(ms)'})\n",
    "df_stats['total_time(ms)'] = df_stats['total_time(ms)'] * 1000.0\n",
    "df_stats['count'] = df.groupby(cmd_arg).count()['function']\n",
    "df_stats['mean_time(ms)'] = df_stats['total_time(ms)'] / df_stats['count']\n",
    "df_stats = df_stats.sort_values(by='total_time(ms)', ascending=False)\n",
    "display(df_stats)"
   ]
  }
 ],
 "metadata": {
  "kernelspec": {
   "display_name": "Python 3",
   "language": "python",
   "name": "python3"
  },
  "language_info": {
   "codemirror_mode": {
    "name": "ipython",
    "version": 3
   },
   "file_extension": ".py",
   "mimetype": "text/x-python",
   "name": "python",
   "nbconvert_exporter": "python",
   "pygments_lexer": "ipython3",
   "version": "3.10.6"
  },
  "orig_nbformat": 4
 },
 "nbformat": 4,
 "nbformat_minor": 2
}
