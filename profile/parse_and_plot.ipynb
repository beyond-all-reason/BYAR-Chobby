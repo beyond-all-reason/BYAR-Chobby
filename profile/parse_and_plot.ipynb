{
 "cells": [
  {
   "cell_type": "code",
   "execution_count": null,
   "metadata": {},
   "outputs": [],
   "source": [
    "import json\n",
    "from pathlib import Path\n",
    "import datetime\n",
    "import shutil\n",
    "import os\n",
    "\n",
    "import pandas as pd"
   ]
  },
  {
   "attachments": {},
   "cell_type": "markdown",
   "metadata": {},
   "source": [
    "Use this notebook to parse server commands, store them locally and plot profiling info.\n",
    "\n",
    "These commands can then be used for replaying, which can be done for benchmarking and testing purposes, and is generally faster than waiting for data to be sent from the server."
   ]
  },
  {
   "cell_type": "code",
   "execution_count": null,
   "metadata": {},
   "outputs": [],
   "source": [
    "# Set your data directory here. This is the only cell you need to modify\n",
    "DATA_DIR = Path('/home/gajop/Beyond All Reason')"
   ]
  },
  {
   "cell_type": "code",
   "execution_count": null,
   "metadata": {},
   "outputs": [],
   "source": [
    "INFOLOG = DATA_DIR / \"infolog.txt\"\n",
    "COMMANDS_LOG = DATA_DIR / \"commands.log\"\n",
    "LOG_CAPTURES_DIR = DATA_DIR / \"log_captures\"\n",
    "COMMANDS_JSON = DATA_DIR / \"commands.json\""
   ]
  },
  {
   "cell_type": "code",
   "execution_count": null,
   "metadata": {},
   "outputs": [],
   "source": [
    "# Utility functions\n",
    "def parse_commands(path: Path) -> list[dict]:\n",
    "    with open(path, \"r\") as f:\n",
    "        commands = f.readlines()\n",
    "    commands = [ json.loads(cmd) for cmd in commands ]\n",
    "    if len(commands) == 0:\n",
    "        raise ValueError(\"No commands found. Did you forget to enable command capture in dbg_command_capture.lua or login to the server?\")\n",
    "    return commands\n",
    "\n",
    "def make_dataframe_from_commands(commands: list[dict]) -> pd.DataFrame:\n",
    "    df = pd.DataFrame(commands)\n",
    "    df = df.rename(columns = {'arg1': 'command'})\n",
    "    df['command_type'] = df['command'].apply(parse_command_type)\n",
    "    df['duration'] = df['end_time'] - df['start_time']\n",
    "    return df\n",
    "\n",
    "def parse_command_type(command: str) -> str:\n",
    "    if command.startswith('#'):\n",
    "        command = command.split('#', maxsplit=1)[1].split(maxsplit=1)[1]\n",
    "\n",
    "    return command.split()[0]\n",
    "\n",
    "def save_commands_for_replay(df: pd.DataFrame, path: Path) -> None:\n",
    "    commands = df['command'].values\n",
    "    json.dump(list(commands), open(path, \"w\"))"
   ]
  },
  {
   "cell_type": "code",
   "execution_count": null,
   "metadata": {},
   "outputs": [],
   "source": [
    "def plot_entry(path: Path) -> None:\n",
    "    df = pd.read_csv(path)\n",
    "\n",
    "    print(f'Total duration: {df[\"duration\"].sum()}')\n",
    "\n",
    "    # Render time info\n",
    "    groupby = df.groupby(['command_type'])[['duration', 'function']]\n",
    "\n",
    "    ax = groupby.mean(numeric_only=True).plot.barh(title='Average command time[s]')\n",
    "    ax.figure.savefig(\"new_avg.png\")\n",
    "    ax = groupby.sum(numeric_only=True).plot.barh(title='Aggregate command time[s]')\n",
    "    ax.figure.savefig(\"new_agg.png\")\n",
    "\n",
    "    df_stats = groupby.sum(numeric_only=True)\n",
    "    df_stats = df_stats.rename(columns={'duration': 'total_time(ms)'})\n",
    "    df_stats['total_time(ms)'] = (df_stats['total_time(ms)'] * 1000.0).round()\n",
    "    count = groupby.count()['function']\n",
    "    df_stats['mean_time(ms)'] = df_stats['total_time(ms)'] / count\n",
    "    df_stats['count'] = count\n",
    "\n",
    "    df_stats = df_stats.sort_values(by='total_time(ms)', ascending=False)\n",
    "    display(df_stats)"
   ]
  },
  {
   "cell_type": "code",
   "execution_count": null,
   "metadata": {},
   "outputs": [],
   "source": [
    "# Load, parse, and store captures\n",
    "os.makedirs(LOG_CAPTURES_DIR, exist_ok=True)\n",
    "\n",
    "dt = datetime.datetime.fromtimestamp(COMMANDS_LOG.stat().st_ctime)\n",
    "timestamp = dt.strftime(\"%Y-%m-%d_%H-%M-%S\")\n",
    "\n",
    "commands = parse_commands(COMMANDS_LOG)\n",
    "df = make_dataframe_from_commands(commands)\n",
    "save_commands_for_replay(df, COMMANDS_JSON)\n",
    "\n",
    "shutil.copy(INFOLOG, LOG_CAPTURES_DIR / f\"infolog-{timestamp}.txt\")\n",
    "shutil.copy(COMMANDS_LOG, LOG_CAPTURES_DIR / f\"commands-{timestamp}.log\")\n",
    "shutil.copy(COMMANDS_JSON, LOG_CAPTURES_DIR / f\"commands-{timestamp}.json\")\n",
    "df.to_csv(LOG_CAPTURES_DIR / f'parsed-{timestamp}.csv', index=False)\n",
    "\n",
    "display(df)"
   ]
  },
  {
   "cell_type": "code",
   "execution_count": null,
   "metadata": {},
   "outputs": [],
   "source": [
    "plot_entry(LOG_CAPTURES_DIR / f\"parsed-{timestamp}.csv\")\n",
    "\n",
    "# Optionally compare with some older entry\n",
    "# plot_entry(LOG_CAPTURES_DIR / f\"parsed-2023-03-21_17-38-09.csv\")"
   ]
  }
 ],
 "metadata": {
  "kernelspec": {
   "display_name": "Python 3",
   "language": "python",
   "name": "python3"
  },
  "language_info": {
   "codemirror_mode": {
    "name": "ipython",
    "version": 3
   },
   "file_extension": ".py",
   "mimetype": "text/x-python",
   "name": "python",
   "nbconvert_exporter": "python",
   "pygments_lexer": "ipython3",
   "version": "3.10.6"
  },
  "orig_nbformat": 4
 },
 "nbformat": 4,
 "nbformat_minor": 2
}
